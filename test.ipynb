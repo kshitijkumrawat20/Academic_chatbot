{
 "cells": [
  {
   "cell_type": "code",
   "execution_count": 6,
   "metadata": {},
   "outputs": [],
   "source": [
    "from langchain_groq import ChatGroq\n",
    "from langchain.agents import create_sql_agent\n",
    "from langchain.sql_database import SQLDatabase\n",
    "from langchain.agents.agent_types import AgentType\n",
    "from langchain.agents.agent_toolkits import SQLDatabaseToolkit\n",
    "import sqlite3\n",
    "from sqlalchemy import create_engine\n",
    "from pathlib import Path\n"
   ]
  },
  {
   "cell_type": "code",
   "execution_count": 2,
   "metadata": {},
   "outputs": [],
   "source": [
    "api_key = \"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\""
   ]
  },
  {
   "cell_type": "code",
   "execution_count": 3,
   "metadata": {},
   "outputs": [],
   "source": [
    "llm = ChatGroq(api_key=api_key, model_name=\"llama-3.1-70b-versatile\", streaming=True)"
   ]
  },
  {
   "cell_type": "code",
   "execution_count": 4,
   "metadata": {},
   "outputs": [
    {
     "name": "stdout",
     "output_type": "stream",
     "text": [
      "Database initialized successfully.\n"
     ]
    }
   ],
   "source": [
    "import sqlite3\n",
    "\n",
    "# Create database and tables\n",
    "conn = sqlite3.connect(\"database.db\")\n",
    "cursor = conn.cursor()\n",
    "\n",
    "# Create assignments table\n",
    "cursor.execute(\"\"\"\n",
    "CREATE TABLE IF NOT EXISTS assignments (\n",
    "    id INTEGER PRIMARY KEY AUTOINCREMENT,\n",
    "    subject TEXT,\n",
    "    deadline DATE,\n",
    "    question TEXT\n",
    ")\n",
    "\"\"\")\n",
    "\n",
    "# Create attendance table\n",
    "cursor.execute(\"\"\"\n",
    "CREATE TABLE IF NOT EXISTS attendance (\n",
    "    id INTEGER PRIMARY KEY AUTOINCREMENT,\n",
    "    student_name TEXT,\n",
    "    enrollment TEXT,\n",
    "    attendance_percentage FLOAT\n",
    ")\n",
    "\"\"\")\n",
    "\n",
    "# Insert sample data\n",
    "cursor.execute(\"INSERT INTO assignments (subject, deadline, question) VALUES ('DBMS', '2024-10-25', 'Explain normalization.')\")\n",
    "cursor.execute(\"INSERT INTO attendance (student_name, enrollment, attendance_percentage) VALUES ('John Doe', 'EN1234', 85.5)\")\n",
    "\n",
    "conn.commit()\n",
    "cursor.close()\n",
    "conn.close()\n",
    "\n",
    "print(\"Database initialized successfully.\")\n"
   ]
  },
  {
   "cell_type": "code",
   "execution_count": 1,
   "metadata": {},
   "outputs": [],
   "source": [
    "import sqlite3\n",
    "\n",
    "conn = sqlite3.connect(\"database.db\")\n",
    "cursor = conn.cursor()\n",
    "\n",
    "cursor.execute('''\n",
    "CREATE TABLE IF NOT EXISTS assignments (\n",
    "    id INTEGER PRIMARY KEY AUTOINCREMENT,\n",
    "    subject TEXT NOT NULL,\n",
    "    deadline TEXT NOT NULL,\n",
    "    question TEXT NOT NULL\n",
    ")\n",
    "''')\n",
    "\n",
    "conn.commit()\n",
    "conn.close()\n"
   ]
  },
  {
   "cell_type": "code",
   "execution_count": 11,
   "metadata": {},
   "outputs": [
    {
     "name": "stdout",
     "output_type": "stream",
     "text": [
      "c:\\code\\MinorProject@KPK\\New folder\\database.db\n"
     ]
    }
   ],
   "source": [
    "db_path = (Path(\"database.db\")).absolute()\n",
    "print(db_path)\n",
    "creator = lambda: sqlite3.connect(f\"file:{db_path}?mode=ro\", uri=True)\n",
    "db =  SQLDatabase(create_engine(\"sqlite:///\",creator = creator))"
   ]
  },
  {
   "cell_type": "code",
   "execution_count": 12,
   "metadata": {},
   "outputs": [
    {
     "name": "stderr",
     "output_type": "stream",
     "text": [
      "c:\\Users\\hp\\AppData\\Local\\Programs\\Python\\Python312\\Lib\\site-packages\\langchain_community\\agent_toolkits\\sql\\base.py:138: UserWarning: Received additional kwargs {'handle_parsing_errors': True} which are no longer supported.\n",
      "  warnings.warn(\n"
     ]
    }
   ],
   "source": [
    "toolkit = SQLDatabaseToolkit(db=db, llm = llm)\n",
    "agent = create_sql_agent(\n",
    "    llm = llm,\n",
    "    toolkit=toolkit,\n",
    "    agent_type=AgentType.ZERO_SHOT_REACT_DESCRIPTION, verbose=True,handle_parsing_errors=True\n",
    "    )"
   ]
  },
  {
   "cell_type": "code",
   "execution_count": 13,
   "metadata": {},
   "outputs": [],
   "source": [
    "User_query = \"What is the attendance percentage of john doe?\""
   ]
  },
  {
   "cell_type": "code",
   "execution_count": 15,
   "metadata": {},
   "outputs": [
    {
     "name": "stdout",
     "output_type": "stream",
     "text": [
      "\n",
      "\n",
      "\u001b[1m> Entering new SQL Agent Executor chain...\u001b[0m\n",
      "\u001b[32;1m\u001b[1;3mThought: To find the attendance percentage of John Doe, I first need to know what tables exist in the database that may contain information about student attendance. \n",
      "\n",
      "Action: sql_db_list_tables \n",
      "Action Input: \u001b[0m\u001b[38;5;200m\u001b[1;3massignments, attendance\u001b[0m\u001b[32;1m\u001b[1;3mThought: Now that I know the tables in the database, I can see that there is an 'attendance' table which is likely where I will find the information I need. However, I'm not sure what fields this table contains, so I should check the schema of the 'attendance' table.\n",
      "\n",
      "Action: sql_db_schema\n",
      "Action Input: attendance\u001b[0m\u001b[33;1m\u001b[1;3m\n",
      "CREATE TABLE attendance (\n",
      "\tid INTEGER, \n",
      "\tstudent_name TEXT, \n",
      "\tenrollment TEXT, \n",
      "\tattendance_percentage FLOAT, \n",
      "\tPRIMARY KEY (id)\n",
      ")\n",
      "\n",
      "/*\n",
      "3 rows from attendance table:\n",
      "id\tstudent_name\tenrollment\tattendance_percentage\n",
      "1\tJohn Doe\tEN1234\t85.5\n",
      "*/\u001b[0m\u001b[32;1m\u001b[1;3mThought: Now that I know the schema of the 'attendance' table, I can see that the table contains a 'student_name' field and an 'attendance_percentage' field. I can use this information to write a query to select the attendance percentage of John Doe.\n",
      "\n",
      "Action: sql_db_query_checker\n",
      "Action Input: SELECT attendance_percentage FROM attendance WHERE student_name = 'John Doe'\u001b[0m\u001b[36;1m\u001b[1;3mSELECT attendance_percentage FROM attendance WHERE student_name = 'John Doe'\u001b[0m\u001b[32;1m\u001b[1;3mThought: Now that the query has been checked and validated, I can execute the query to get the attendance percentage of John Doe.\n",
      "\n",
      "Action: sql_db_query\n",
      "Action Input: SELECT attendance_percentage FROM attendance WHERE student_name = 'John Doe'\u001b[0m\u001b[36;1m\u001b[1;3m[(85.5,)]\u001b[0m\u001b[32;1m\u001b[1;3mThought: I now know the final answer\n",
      "\n",
      "Final Answer: The attendance percentage of John Doe is 85.5%.\u001b[0m\n",
      "\n",
      "\u001b[1m> Finished chain.\u001b[0m\n"
     ]
    }
   ],
   "source": [
    "response = agent.run(User_query)"
   ]
  },
  {
   "cell_type": "code",
   "execution_count": null,
   "metadata": {},
   "outputs": [],
   "source": []
  },
  {
   "cell_type": "code",
   "execution_count": null,
   "metadata": {},
   "outputs": [],
   "source": []
  },
  {
   "cell_type": "code",
   "execution_count": null,
   "metadata": {},
   "outputs": [],
   "source": []
  }
 ],
 "metadata": {
  "kernelspec": {
   "display_name": "Python 3",
   "language": "python",
   "name": "python3"
  },
  "language_info": {
   "codemirror_mode": {
    "name": "ipython",
    "version": 3
   },
   "file_extension": ".py",
   "mimetype": "text/x-python",
   "name": "python",
   "nbconvert_exporter": "python",
   "pygments_lexer": "ipython3",
   "version": "3.12.4"
  }
 },
 "nbformat": 4,
 "nbformat_minor": 2
}
